{
 "cells": [
  {
   "cell_type": "code",
   "execution_count": 97,
   "metadata": {},
   "outputs": [],
   "source": [
    "import pandas as pd\n",
    "import numpy as np\n",
    "import matplotlib.pyplot as plt\n",
    "\n",
    "from sklearn.impute import SimpleImputer\n",
    "from sklearn.pipeline import Pipeline\n",
    "from sklearn.model_selection import train_test_split\n",
    "from sklearn.preprocessing import StandardScaler\n",
    "from sklearn.neighbors import KNeighborsClassifier\n",
    "from sklearn.metrics import accuracy_score, classification_report\n",
    "\n",
    "import seaborn as sns\n",
    "from sklearn.svm import SVC\n",
    "from sklearn.metrics import classification_report, confusion_matrix\n",
    "from sklearn.preprocessing import LabelEncoder\n",
    "\n"
   ]
  },
  {
   "cell_type": "code",
   "execution_count": 98,
   "metadata": {},
   "outputs": [
    {
     "data": {
      "text/html": [
       "<div>\n",
       "<style scoped>\n",
       "    .dataframe tbody tr th:only-of-type {\n",
       "        vertical-align: middle;\n",
       "    }\n",
       "\n",
       "    .dataframe tbody tr th {\n",
       "        vertical-align: top;\n",
       "    }\n",
       "\n",
       "    .dataframe thead th {\n",
       "        text-align: right;\n",
       "    }\n",
       "</style>\n",
       "<table border=\"1\" class=\"dataframe\">\n",
       "  <thead>\n",
       "    <tr style=\"text-align: right;\">\n",
       "      <th></th>\n",
       "      <th>Experience_Level</th>\n",
       "      <th>Workout_Type_Encoded</th>\n",
       "      <th>Gender_Encoded</th>\n",
       "    </tr>\n",
       "  </thead>\n",
       "  <tbody>\n",
       "    <tr>\n",
       "      <th>0</th>\n",
       "      <td>3</td>\n",
       "      <td>3</td>\n",
       "      <td>1</td>\n",
       "    </tr>\n",
       "    <tr>\n",
       "      <th>1</th>\n",
       "      <td>2</td>\n",
       "      <td>1</td>\n",
       "      <td>0</td>\n",
       "    </tr>\n",
       "    <tr>\n",
       "      <th>2</th>\n",
       "      <td>2</td>\n",
       "      <td>0</td>\n",
       "      <td>0</td>\n",
       "    </tr>\n",
       "    <tr>\n",
       "      <th>3</th>\n",
       "      <td>1</td>\n",
       "      <td>2</td>\n",
       "      <td>1</td>\n",
       "    </tr>\n",
       "    <tr>\n",
       "      <th>4</th>\n",
       "      <td>1</td>\n",
       "      <td>2</td>\n",
       "      <td>1</td>\n",
       "    </tr>\n",
       "    <tr>\n",
       "      <th>...</th>\n",
       "      <td>...</td>\n",
       "      <td>...</td>\n",
       "      <td>...</td>\n",
       "    </tr>\n",
       "    <tr>\n",
       "      <th>968</th>\n",
       "      <td>3</td>\n",
       "      <td>2</td>\n",
       "      <td>1</td>\n",
       "    </tr>\n",
       "    <tr>\n",
       "      <th>969</th>\n",
       "      <td>1</td>\n",
       "      <td>2</td>\n",
       "      <td>1</td>\n",
       "    </tr>\n",
       "    <tr>\n",
       "      <th>970</th>\n",
       "      <td>3</td>\n",
       "      <td>0</td>\n",
       "      <td>0</td>\n",
       "    </tr>\n",
       "    <tr>\n",
       "      <th>971</th>\n",
       "      <td>2</td>\n",
       "      <td>1</td>\n",
       "      <td>1</td>\n",
       "    </tr>\n",
       "    <tr>\n",
       "      <th>972</th>\n",
       "      <td>1</td>\n",
       "      <td>2</td>\n",
       "      <td>1</td>\n",
       "    </tr>\n",
       "  </tbody>\n",
       "</table>\n",
       "<p>973 rows × 3 columns</p>\n",
       "</div>"
      ],
      "text/plain": [
       "     Experience_Level  Workout_Type_Encoded  Gender_Encoded\n",
       "0                   3                     3               1\n",
       "1                   2                     1               0\n",
       "2                   2                     0               0\n",
       "3                   1                     2               1\n",
       "4                   1                     2               1\n",
       "..                ...                   ...             ...\n",
       "968                 3                     2               1\n",
       "969                 1                     2               1\n",
       "970                 3                     0               0\n",
       "971                 2                     1               1\n",
       "972                 1                     2               1\n",
       "\n",
       "[973 rows x 3 columns]"
      ]
     },
     "execution_count": 98,
     "metadata": {},
     "output_type": "execute_result"
    }
   ],
   "source": [
    "#Run SVM algorithm on that data\n",
    "gym_df = pd.read_csv('gym.csv')\n",
    "gym_df.dropna\n",
    "\n",
    "label_encoder = LabelEncoder()\n",
    "gym_df['Gender_Encoded'] = label_encoder.fit_transform(gym_df['Gender'])\n",
    "gym_df['Workout_Type_Encoded'] = label_encoder.fit_transform(gym_df['Workout_Type'])\n",
    "\n",
    "gym_df.head()\n",
    "x = gym_df.iloc[:, [0, 2, 3, 4, 5, 6, 7, 8,10,11,12,14]]\n",
    "y = gym_df.iloc[:, [13, 16, 15]]\n",
    "x\n",
    "y\n"
   ]
  },
  {
   "cell_type": "code",
   "execution_count": 99,
   "metadata": {},
   "outputs": [
    {
     "name": "stdout",
     "output_type": "stream",
     "text": [
      "Accuracy: 89.23%\n",
      "              precision    recall  f1-score   support\n",
      "\n",
      "           1       0.92      0.80      0.85       153\n",
      "           2       0.82      0.93      0.87       157\n",
      "           3       1.00      1.00      1.00        80\n",
      "\n",
      "    accuracy                           0.89       390\n",
      "   macro avg       0.91      0.91      0.91       390\n",
      "weighted avg       0.90      0.89      0.89       390\n",
      "\n"
     ]
    }
   ],
   "source": [
    "X_train, X_test, y_train, y_test = train_test_split(x, y, test_size=0.4, random_state=42)\n",
    "\n",
    "# Standardize the features\n",
    "scaler = StandardScaler()\n",
    "X_train_scaled = scaler.fit_transform(X_train)\n",
    "X_test_scaled = scaler.transform(X_test)\n",
    "\n",
    "# Train the SVM model with RBF kernel\n",
    "svm_model = SVC(kernel='rbf', random_state=42)\n",
    "svm_model.fit(X_train_scaled, y_train['Experience_Level'])  # Example: Using Experience_Level as target\n",
    "\n",
    "# Make predictions\n",
    "y_pred = svm_model.predict(X_test_scaled)\n",
    "\n",
    "# Evaluate the model\n",
    "accuracy = accuracy_score(y_test['Experience_Level'], y_pred)\n",
    "print(f\"Accuracy: {accuracy * 100:.2f}%\")\n",
    "\n",
    "# Detailed classification report\n",
    "print(classification_report(y_test['Experience_Level'], y_pred))"
   ]
  },
  {
   "cell_type": "code",
   "execution_count": 100,
   "metadata": {},
   "outputs": [
    {
     "name": "stdout",
     "output_type": "stream",
     "text": [
      "Accuracy: 85.13%\n",
      "              precision    recall  f1-score   support\n",
      "\n",
      "           1       0.85      0.75      0.80       153\n",
      "           2       0.78      0.87      0.83       157\n",
      "           3       1.00      1.00      1.00        80\n",
      "\n",
      "    accuracy                           0.85       390\n",
      "   macro avg       0.88      0.87      0.87       390\n",
      "weighted avg       0.85      0.85      0.85       390\n",
      "\n"
     ]
    }
   ],
   "source": [
    "knn_model = KNeighborsClassifier(n_neighbors=5)  # You can tune the number of neighbors\n",
    "knn_model.fit(X_train_scaled, y_train['Experience_Level'])\n",
    "\n",
    "# Make predictions\n",
    "y_pred = knn_model.predict(X_test_scaled)\n",
    "\n",
    "# Evaluate the model\n",
    "accuracy = accuracy_score(y_test['Experience_Level'], y_pred)\n",
    "print(f\"Accuracy: {accuracy * 100:.2f}%\")\n",
    "\n",
    "# Detailed classification report\n",
    "print(classification_report(y_test['Experience_Level'], y_pred))"
   ]
  },
  {
   "cell_type": "code",
   "execution_count": 101,
   "metadata": {},
   "outputs": [],
   "source": [
    "x_train, x_test, y_train, y_test= train_test_split(x, y, test_size = 0.2, shuffle = True, random_state = 0)"
   ]
  },
  {
   "cell_type": "code",
   "execution_count": 102,
   "metadata": {},
   "outputs": [],
   "source": [
    "# Train models with and without standard scaler\n",
    "scaler = StandardScaler()\n",
    "scaler.fit(x_train)\n",
    "\n",
    "x_train_scaled = scaler.transform(x_train)\n",
    "x_test_scaled = scaler.transform(x_test)"
   ]
  },
  {
   "cell_type": "code",
   "execution_count": 103,
   "metadata": {},
   "outputs": [
    {
     "name": "stdout",
     "output_type": "stream",
     "text": [
      "        Age  Weight (kg)  Height (m)   Max_BPM   Avg_BPM  Resting_BPM  \\\n",
      "0  1.429708     0.704658   -0.103686  0.022980  0.925993    -0.325290   \n",
      "1  0.609902     0.065591   -1.507964 -0.063810  0.506492     0.487587   \n",
      "2 -0.537827    -0.258711   -0.493764 -1.105291 -1.521095    -1.138168   \n",
      "3 -1.111691    -0.969316   -0.181702  0.890881  1.415411    -0.867209   \n",
      "4 -0.045943    -1.307926    0.520437  0.717301  0.995910     0.758547   \n",
      "\n",
      "   Session_Duration (hours)  Calories_Burned  Fat_Percentage  \\\n",
      "0                  1.257119         1.481737       -1.988557   \n",
      "1                  0.117452        -0.092000        1.405563   \n",
      "2                 -0.437770        -0.845929        1.325889   \n",
      "3                 -1.957326        -1.376608        0.592886   \n",
      "4                 -1.811215        -1.288772        0.656626   \n",
      "\n",
      "   Water_Intake (liters)  Workout_Frequency (days/week)       BMI  \\\n",
      "0               1.439005                       0.739667  0.816372   \n",
      "1              -0.873083                       0.739667  1.088330   \n",
      "2              -0.542785                       0.739667 -0.013101   \n",
      "3              -0.873083                      -0.358541 -0.964955   \n",
      "4               0.282961                      -0.358541 -1.572328   \n",
      "\n",
      "   Experience_Level  Workout_Type_Encoded  Gender_Encoded  \n",
      "0                 3                     3               1  \n",
      "1                 2                     1               0  \n",
      "2                 2                     0               0  \n",
      "3                 1                     2               1  \n",
      "4                 1                     2               1  \n"
     ]
    }
   ],
   "source": [
    "# Step 1: Scale the features\n",
    "x_scaled = scaler.transform(x)\n",
    "\n",
    "# Step 2: Create a DataFrame from the scaled features, preserving the column names\n",
    "gym_df_scaled = pd.DataFrame(x_scaled, columns=x.columns)\n",
    "\n",
    "# Step 3: Add the target columns from y to the scaled DataFrame\n",
    "# Iterate through each column of y (assuming y is a DataFrame)\n",
    "for col in y.columns:  # Use y.columns to get target column names\n",
    "    gym_df_scaled[col] = y[col]\n",
    "\n",
    "# Step 4: Verify the result\n",
    "print(gym_df_scaled.head())  # Display the first few rows of the updated DataFrame\n"
   ]
  },
  {
   "cell_type": "code",
   "execution_count": 104,
   "metadata": {},
   "outputs": [
    {
     "name": "stdout",
     "output_type": "stream",
     "text": [
      "   Age  Weight (kg)  Height (m)  Max_BPM  Avg_BPM  Resting_BPM  \\\n",
      "0   56         88.3        1.71      180      157           60   \n",
      "1   46         74.9        1.53      179      151           66   \n",
      "2   32         68.1        1.66      167      122           54   \n",
      "3   25         53.2        1.70      190      164           56   \n",
      "4   38         46.1        1.79      188      158           68   \n",
      "\n",
      "   Session_Duration (hours)  Calories_Burned  Fat_Percentage  \\\n",
      "0                      1.69           1313.0            12.6   \n",
      "1                      1.30            883.0            33.9   \n",
      "2                      1.11            677.0            33.4   \n",
      "3                      0.59            532.0            28.8   \n",
      "4                      0.64            556.0            29.2   \n",
      "\n",
      "   Water_Intake (liters)  Workout_Frequency (days/week)    BMI  \\\n",
      "0                    3.5                              4  30.20   \n",
      "1                    2.1                              4  32.00   \n",
      "2                    2.3                              4  24.71   \n",
      "3                    2.1                              3  18.41   \n",
      "4                    2.8                              3  14.39   \n",
      "\n",
      "   Experience_Level  Workout_Type_Encoded  Gender_Encoded  \n",
      "0                 3                     3               1  \n",
      "1                 2                     1               0  \n",
      "2                 2                     0               0  \n",
      "3                 1                     2               1  \n",
      "4                 1                     2               1  \n"
     ]
    }
   ],
   "source": [
    "# Step 1: Combine the original features with the target columns\n",
    "gym_df_combined = x.copy()  # Retain original features\n",
    "for col in y.columns:       # Append target columns\n",
    "    gym_df_combined[col] = y[col]\n",
    "\n",
    "# Step 2: Verify the result\n",
    "print(gym_df_combined.head())  # Display the first few rows of the updated DataFrame"
   ]
  },
  {
   "cell_type": "code",
   "execution_count": 105,
   "metadata": {},
   "outputs": [],
   "source": [
    "y_train = y_train.values.ravel()  # y_train on pandas DataFrame"
   ]
  },
  {
   "cell_type": "code",
   "execution_count": 106,
   "metadata": {},
   "outputs": [
    {
     "name": "stdout",
     "output_type": "stream",
     "text": [
      "x_train_scaled shape: (778, 12)\n",
      "y_train shape: (2334,)\n"
     ]
    }
   ],
   "source": [
    "# Skaalaus vain jaon jälkeen\n",
    "scaler = StandardScaler()\n",
    "x_train_scaled = scaler.fit_transform(x_train)\n",
    "x_test_scaled = scaler.transform(x_test)\n",
    "\n",
    "# Vahvista rivimäärät\n",
    "print(f\"x_train_scaled shape: {x_train_scaled.shape}\")\n",
    "print(f\"y_train shape: {y_train.shape}\")"
   ]
  },
  {
   "cell_type": "code",
   "execution_count": 107,
   "metadata": {},
   "outputs": [],
   "source": [
    "x_train_scaled, x_test_scaled, y_train, y_test = train_test_split(x, y, test_size=0.2, random_state=42)"
   ]
  },
  {
   "cell_type": "code",
   "execution_count": 108,
   "metadata": {},
   "outputs": [
    {
     "name": "stdout",
     "output_type": "stream",
     "text": [
      "(778,)\n"
     ]
    }
   ],
   "source": [
    "y_train = y_train.iloc[:, 0]  # Valitaan \"Experience_Level\" (ensimmäinen sarake)\n",
    "print(y_train.shape)  # Tämä pitäisi olla (778,)"
   ]
  },
  {
   "cell_type": "code",
   "execution_count": 109,
   "metadata": {},
   "outputs": [
    {
     "name": "stdout",
     "output_type": "stream",
     "text": [
      "(195,)\n"
     ]
    }
   ],
   "source": [
    "model = SVC(kernel=\"linear\")\n",
    "model.fit(x_train_scaled, y_train)\n",
    "\n",
    "# Ennustetaan koko testijoukko\n",
    "y_pred = model.predict(x_test_scaled)\n",
    "print(y_pred.shape)  "
   ]
  },
  {
   "cell_type": "code",
   "execution_count": 110,
   "metadata": {},
   "outputs": [
    {
     "name": "stdout",
     "output_type": "stream",
     "text": [
      "y_test shape after fix: (195,)\n",
      "y_pred shape: (195,)\n",
      "Confusion Matrix:\n",
      "[[66 12  0]\n",
      " [ 8 67  0]\n",
      " [ 0  0 42]]\n"
     ]
    }
   ],
   "source": [
    "# y_test on DataFrame ja valitaan ensimmäinen sarake\n",
    "if len(y_test.shape) > 1:\n",
    "    y_test = y_test.iloc[:, 0]  # Valitaan \"Experience_Level\" (ensimmäinen sarake)\n",
    "\n",
    "# Tarkista y_test ja y_pred muodot\n",
    "print(\"y_test shape after fix:\", y_test.shape)\n",
    "print(\"y_pred shape:\", y_pred.shape)\n",
    "\n",
    "# Jos y_pred on 2D, valitse ensimmäinen sarake\n",
    "if len(y_pred.shape) > 1:\n",
    "    y_pred = y_pred[:, 0]  # Otetaan ensimmäinen sarake, jos y_pred on 2D\n",
    "\n",
    "# Confusion matrix\n",
    "cm = confusion_matrix(y_test, y_pred)\n",
    "print(\"Confusion Matrix:\")\n",
    "print(cm)"
   ]
  },
  {
   "cell_type": "markdown",
   "metadata": {},
   "source": [
    "List 2 interesting use cases for applying SVM algorithm for real world"
   ]
  },
  {
   "cell_type": "code",
   "execution_count": 111,
   "metadata": {},
   "outputs": [],
   "source": [
    "#Compare SVM results with kNN results"
   ]
  }
 ],
 "metadata": {
  "kernelspec": {
   "display_name": "Python 3",
   "language": "python",
   "name": "python3"
  },
  "language_info": {
   "codemirror_mode": {
    "name": "ipython",
    "version": 3
   },
   "file_extension": ".py",
   "mimetype": "text/x-python",
   "name": "python",
   "nbconvert_exporter": "python",
   "pygments_lexer": "ipython3",
   "version": "3.12.0"
  }
 },
 "nbformat": 4,
 "nbformat_minor": 2
}
