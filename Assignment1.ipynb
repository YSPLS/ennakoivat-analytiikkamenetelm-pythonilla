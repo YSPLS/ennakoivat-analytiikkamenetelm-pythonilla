{
 "cells": [
  {
   "cell_type": "code",
   "execution_count": null,
   "metadata": {},
   "outputs": [],
   "source": [
    "import pandas as pd\n",
    "import numpy as np\n",
    "from sklearn import datasets\n",
    "\n",
    "\n",
    "from sklearn.model_selection import train_test_split \n",
    "from sklearn.neighbors import KNeighborsClassifier \n",
    "from sklearn.metrics import accuracy_score "
   ]
  },
  {
   "cell_type": "markdown",
   "metadata": {},
   "source": [
    "pip install scikit-learn\n",
    "pip install kaggle\n",
    "\n",
    "LAITTAKAA TERMINAALIIN"
   ]
  },
  {
   "cell_type": "code",
   "execution_count": null,
   "metadata": {},
   "outputs": [],
   "source": [
    "path = '/kaggle/input/cars-dataset/Cars.csv'  # This is a placeholder path for Kaggle environment\n",
    "cars_df = pd.read_csv(path)\n",
    "\n",
    "print(\"Path to dataset file:\", path)\n",
    "\n",
    "# Inspect the first few rows of the dataset to understand its structure\n",
    "print(cars_df.head())"
   ]
  },
  {
   "cell_type": "markdown",
   "metadata": {},
   "source": [
    "YLEMMÄN SAA POISTAA"
   ]
  },
  {
   "cell_type": "markdown",
   "metadata": {},
   "source": [
    "TEHTÄVÄNANTO\n",
    "\n",
    "Run kNN algorithm on that data\n",
    "Use the sklearn version\n",
    "List 2 interesting use cases for applying kNN algorithm for real world\n",
    "These may or may not be business cases\n",
    "\n",
    "Make experiments on your algorithms with different values of k\n",
    "Study the effect of different training/testing split portions on your data (like 80/20 training/testing split)\n",
    "Try k-Fold approach"
   ]
  },
  {
   "cell_type": "code",
   "execution_count": null,
   "metadata": {},
   "outputs": [],
   "source": [
    "cars = datasets.load_cars()\n",
    "cars_df = pd.DataFrame(data= np.c_[cars['data'], cars['target']],\n",
    "                      columns= cars['feature_names'] + ['target'])"
   ]
  },
  {
   "cell_type": "code",
   "execution_count": null,
   "metadata": {},
   "outputs": [],
   "source": [
    "cars_df"
   ]
  }
 ],
 "metadata": {
  "kernelspec": {
   "display_name": "Python 3",
   "language": "python",
   "name": "python3"
  },
  "language_info": {
   "codemirror_mode": {
    "name": "ipython",
    "version": 3
   },
   "file_extension": ".py",
   "mimetype": "text/x-python",
   "name": "python",
   "nbconvert_exporter": "python",
   "pygments_lexer": "ipython3",
   "version": "3.12.0"
  }
 },
 "nbformat": 4,
 "nbformat_minor": 2
}
