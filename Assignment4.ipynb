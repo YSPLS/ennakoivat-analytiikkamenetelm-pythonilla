{
 "cells": [
  {
   "cell_type": "code",
   "execution_count": 2,
   "metadata": {},
   "outputs": [],
   "source": [
    "import pandas as pd\n",
    "import numpy as np\n",
    "import matplotlib.pyplot as plt\n",
    "from sklearn.linear_model import LinearRegression\n",
    "import seaborn as sns\n",
    "##Imports!!!!!"
   ]
  },
  {
   "cell_type": "code",
   "execution_count": null,
   "metadata": {},
   "outputs": [],
   "source": [
    "df = pd.read_csv(\"autoMPG_data.csv\",decimal=',') ##load datafile, handle decimals with the \"\",\" mark\n",
    "\n",
    "x = df[['Displacement100ci', 'Horsepower100', 'Cylinders']]  # independent variables used to train model\n",
    "y = df[['GallonsPer100Miles']]  # Dependent variable in training the model. Do NOT change\n",
    "\n",
    "df\n"
   ]
  },
  {
   "cell_type": "code",
   "execution_count": 4,
   "metadata": {},
   "outputs": [],
   "source": [
    "model = LinearRegression().fit(x,y) ##Train the model"
   ]
  },
  {
   "cell_type": "markdown",
   "metadata": {},
   "source": [
    "Model testing"
   ]
  },
  {
   "cell_type": "code",
   "execution_count": null,
   "metadata": {},
   "outputs": [],
   "source": [
    "x1 = df[['Displacement100ci', 'Year', 'Weight1000lb']]\n",
    "model1 = LinearRegression().fit(x1,y) ##Train the model\n",
    "model1.score(x1,y)*100 ##check model accuracy\n",
    "\n",
    "\n",
    "x2 = df[['MPG', 'Year', 'Weight1000lb']]\n",
    "model2 = LinearRegression().fit(x2,y) ##Train the model\n",
    "model2.score(x2,y)*100 ##check model accuracy\n",
    "\n",
    "x3 = df[['MPG', 'Year', 'Weight1000lb']]\n",
    "model3 = LinearRegression().fit(x3,y) ##Train the model\n",
    "model3.score(x3,y)*100 ##check model accuracy"
   ]
  },
  {
   "cell_type": "code",
   "execution_count": null,
   "metadata": {},
   "outputs": [],
   "source": [
    "plt.scatter(df[['Weight1000lb']], y)"
   ]
  },
  {
   "cell_type": "code",
   "execution_count": null,
   "metadata": {},
   "outputs": [],
   "source": [
    "plt.scatter(df[['Displacement100ci']], y)"
   ]
  },
  {
   "cell_type": "code",
   "execution_count": null,
   "metadata": {},
   "outputs": [],
   "source": [
    "plt.scatter(df[['Horsepower100']], y)"
   ]
  },
  {
   "cell_type": "code",
   "execution_count": null,
   "metadata": {},
   "outputs": [],
   "source": [
    "sns.pairplot(df) ##print out tons of analytical images"
   ]
  },
  {
   "cell_type": "code",
   "execution_count": 10,
   "metadata": {},
   "outputs": [],
   "source": [
    "df = df.drop(['Name'], axis=1)"
   ]
  },
  {
   "cell_type": "code",
   "execution_count": null,
   "metadata": {},
   "outputs": [],
   "source": [
    "df.corr() ##Check how data is correlated"
   ]
  },
  {
   "cell_type": "code",
   "execution_count": null,
   "metadata": {},
   "outputs": [],
   "source": []
  },
  {
   "cell_type": "code",
   "execution_count": null,
   "metadata": {},
   "outputs": [],
   "source": [
    "model.coef_ ##model coefficiency "
   ]
  },
  {
   "cell_type": "code",
   "execution_count": null,
   "metadata": {},
   "outputs": [],
   "source": [
    "model.intercept_ ##intercept value"
   ]
  },
  {
   "cell_type": "code",
   "execution_count": null,
   "metadata": {},
   "outputs": [],
   "source": [
    "model.score(x,y)*100 ##check model accuracy"
   ]
  },
  {
   "cell_type": "code",
   "execution_count": 15,
   "metadata": {},
   "outputs": [],
   "source": [
    "import seaborn as sns\n",
    "from sklearn.model_selection import train_test_split\n",
    "from sklearn.metrics import mean_squared_error, r2_score"
   ]
  },
  {
   "cell_type": "code",
   "execution_count": null,
   "metadata": {},
   "outputs": [],
   "source": [
    "X_train, X_test, y_train, y_test = train_test_split(x2, y, test_size=0.2, random_state=42)\n",
    "\n",
    "# Train the Linear Regression model\n",
    "model = LinearRegression()\n",
    "model.fit(X_train, y_train)\n",
    "\n",
    "# Predict on test data (use X_test, not x_test)\n",
    "y_pred = model.predict(X_test)\n",
    "\n",
    "# Evaluate the model\n",
    "mse = mean_squared_error(y_test, y_pred)\n",
    "r2 = r2_score(y_test, y_pred)\n",
    "r2"
   ]
  },
  {
   "cell_type": "code",
   "execution_count": null,
   "metadata": {},
   "outputs": [],
   "source": [
    "# Calculate residuals\n",
    "residuals = y_test - y_pred\n",
    "\n",
    "# Plot residuals\n",
    "plt.figure(figsize=(10, 6))\n",
    "plt.scatter(y_pred, residuals, color=\"blue\")\n",
    "plt.axhline(y=0, color=\"red\", linestyle=\"--\")\n",
    "plt.xlabel(\"Predicted MPG\")\n",
    "plt.ylabel(\"Residuals\")\n",
    "plt.title(\"Residuals Plot\")\n",
    "plt.show()\n"
   ]
  },
  {
   "cell_type": "code",
   "execution_count": null,
   "metadata": {},
   "outputs": [],
   "source": [
    "df['Horsepower100'] = df['Horsepower100'].fillna(0)\n",
    "df['Cylinders'] = df['Cylinders'].fillna(0)\n",
    "\n",
    "#Define independent and dependent variables\n",
    "X = df[['Displacement100ci', 'Horsepower100', 'Cylinders']]  # Independent variables\n",
    "\n",
    "#Split the data into training and testing sets\n",
    "X_train, X_test, y_train, y_test = train_test_split(X, y, test_size=0.2, random_state=42)\n",
    "\n",
    "#Train the model\n",
    "model = LinearRegression()\n",
    "model.fit(X_train, y_train)\n"
   ]
  },
  {
   "cell_type": "code",
   "execution_count": null,
   "metadata": {},
   "outputs": [],
   "source": [
    "# Define new values within the range of the training data\n",
    "new_values_interp = pd.DataFrame({\n",
    "    'Displacement100ci': [150, 250],  # Within training data range\n",
    "    'Horsepower100': [80, 120],      # Within training data range\n",
    "    'Cylinders': [4, 6]              # Within training data range\n",
    "})\n",
    "\n",
    "# Predict GallonsPer100Miles for new values\n",
    "pred_interp = model.predict(new_values_interp)\n",
    "print(\"Predictions for Interpolation Range:\")\n",
    "print(pred_interp)\n"
   ]
  },
  {
   "cell_type": "code",
   "execution_count": null,
   "metadata": {},
   "outputs": [],
   "source": [
    "# Test with new values (Extrapolation)\n",
    "new_values_extrap = pd.DataFrame({\n",
    "    'Displacement100ci': [500, 700],   # Extrapolated displacement values\n",
    "    'Horsepower100': [300, 400],      # Unusual high horsepower\n",
    "    'Cylinders': [12, 16]             # Unusual high cylinder counts\n",
    "})\n",
    "\n",
    "# Predict MPG for the new values\n",
    "pred_extrap = model.predict(new_values_extrap)\n",
    "print(\"Predictions for Extrapolation Range:\")\n",
    "print(pred_extrap)"
   ]
  }
 ],
 "metadata": {
  "kernelspec": {
   "display_name": "Python 3",
   "language": "python",
   "name": "python3"
  },
  "language_info": {
   "codemirror_mode": {
    "name": "ipython",
    "version": 3
   },
   "file_extension": ".py",
   "mimetype": "text/x-python",
   "name": "python",
   "nbconvert_exporter": "python",
   "pygments_lexer": "ipython3",
   "version": "3.12.0"
  }
 },
 "nbformat": 4,
 "nbformat_minor": 2
}
